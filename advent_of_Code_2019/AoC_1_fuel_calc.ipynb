{
 "cells": [
  {
   "cell_type": "markdown",
   "metadata": {},
   "source": [
    "Fuel required to launch a given module is based on its mass. Specifically, to find the fuel required for a module, take its mass, divide by three, round down, and subtract 2.\n",
    "\n",
    "For example:\n",
    "\n",
    "    For a mass of 12, divide by 3 and round down to get 4, then subtract 2 to get 2.\n",
    "    For a mass of 14, dividing by 3 and rounding down still yields 4, so the fuel required is also 2.\n",
    "    For a mass of 1969, the fuel required is 654.\n",
    "    For a mass of 100756, the fuel required is 33583.\n",
    "\n",
    "The Fuel Counter-Upper needs to know the total fuel requirement. To find it, individually calculate the fuel needed for the mass of each module (your puzzle input), then add together all the fuel values."
   ]
  },
  {
   "cell_type": "code",
   "execution_count": 12,
   "metadata": {},
   "outputs": [],
   "source": [
    "import os, sys\n",
    "import pandas as pd\n",
    "import numpy as np"
   ]
  },
  {
   "cell_type": "code",
   "execution_count": 33,
   "metadata": {},
   "outputs": [],
   "source": [
    "with open(os.path.join(sys.path[0], \"AoC_1_modules.txt\"), \"r\") as f:\n",
    "    df= pd.read_csv(f, sep=' ', header = None)"
   ]
  },
  {
   "cell_type": "code",
   "execution_count": 34,
   "metadata": {},
   "outputs": [],
   "source": [
    "df['fuel'] = (df[0].div(3).apply(np.floor)) -2"
   ]
  },
  {
   "cell_type": "code",
   "execution_count": 35,
   "metadata": {},
   "outputs": [
    {
     "data": {
      "text/html": [
       "<div>\n",
       "<style scoped>\n",
       "    .dataframe tbody tr th:only-of-type {\n",
       "        vertical-align: middle;\n",
       "    }\n",
       "\n",
       "    .dataframe tbody tr th {\n",
       "        vertical-align: top;\n",
       "    }\n",
       "\n",
       "    .dataframe thead th {\n",
       "        text-align: right;\n",
       "    }\n",
       "</style>\n",
       "<table border=\"1\" class=\"dataframe\">\n",
       "  <thead>\n",
       "    <tr style=\"text-align: right;\">\n",
       "      <th></th>\n",
       "      <th>0</th>\n",
       "      <th>fuel</th>\n",
       "    </tr>\n",
       "  </thead>\n",
       "  <tbody>\n",
       "    <tr>\n",
       "      <th>0</th>\n",
       "      <td>71343</td>\n",
       "      <td>23779.0</td>\n",
       "    </tr>\n",
       "    <tr>\n",
       "      <th>1</th>\n",
       "      <td>60747</td>\n",
       "      <td>20247.0</td>\n",
       "    </tr>\n",
       "    <tr>\n",
       "      <th>2</th>\n",
       "      <td>122054</td>\n",
       "      <td>40682.0</td>\n",
       "    </tr>\n",
       "    <tr>\n",
       "      <th>3</th>\n",
       "      <td>67364</td>\n",
       "      <td>22452.0</td>\n",
       "    </tr>\n",
       "    <tr>\n",
       "      <th>4</th>\n",
       "      <td>53017</td>\n",
       "      <td>17670.0</td>\n",
       "    </tr>\n",
       "    <tr>\n",
       "      <th>...</th>\n",
       "      <td>...</td>\n",
       "      <td>...</td>\n",
       "    </tr>\n",
       "    <tr>\n",
       "      <th>95</th>\n",
       "      <td>79674</td>\n",
       "      <td>26556.0</td>\n",
       "    </tr>\n",
       "    <tr>\n",
       "      <th>96</th>\n",
       "      <td>109834</td>\n",
       "      <td>36609.0</td>\n",
       "    </tr>\n",
       "    <tr>\n",
       "      <th>97</th>\n",
       "      <td>77521</td>\n",
       "      <td>25838.0</td>\n",
       "    </tr>\n",
       "    <tr>\n",
       "      <th>98</th>\n",
       "      <td>110024</td>\n",
       "      <td>36672.0</td>\n",
       "    </tr>\n",
       "    <tr>\n",
       "      <th>99</th>\n",
       "      <td>115217</td>\n",
       "      <td>38403.0</td>\n",
       "    </tr>\n",
       "  </tbody>\n",
       "</table>\n",
       "<p>100 rows × 2 columns</p>\n",
       "</div>"
      ],
      "text/plain": [
       "         0     fuel\n",
       "0    71343  23779.0\n",
       "1    60747  20247.0\n",
       "2   122054  40682.0\n",
       "3    67364  22452.0\n",
       "4    53017  17670.0\n",
       "..     ...      ...\n",
       "95   79674  26556.0\n",
       "96  109834  36609.0\n",
       "97   77521  25838.0\n",
       "98  110024  36672.0\n",
       "99  115217  38403.0\n",
       "\n",
       "[100 rows x 2 columns]"
      ]
     },
     "execution_count": 35,
     "metadata": {},
     "output_type": "execute_result"
    }
   ],
   "source": [
    "df"
   ]
  },
  {
   "cell_type": "code",
   "execution_count": 36,
   "metadata": {},
   "outputs": [
    {
     "data": {
      "text/plain": [
       "0       9485145.0\n",
       "fuel    3161483.0\n",
       "dtype: float64"
      ]
     },
     "execution_count": 36,
     "metadata": {},
     "output_type": "execute_result"
    }
   ],
   "source": [
    "df.sum(axis=0) ##for fuel for module weight"
   ]
  },
  {
   "cell_type": "code",
   "execution_count": 37,
   "metadata": {},
   "outputs": [],
   "source": [
    "df['f2'] = (df['fuel'].div(3).apply(np.floor)) -2\n",
    "df['f3'] = (df['f2'].div(3).apply(np.floor)) -2\n",
    "df['f4'] = (df['f3'].div(3).apply(np.floor)) -2\n",
    "df['f5'] = (df['f4'].div(3).apply(np.floor)) -2\n",
    "df['f6'] = (df['f5'].div(3).apply(np.floor)) -2\n",
    "df['f7'] = (df['f6'].div(3).apply(np.floor)) -2\n",
    "df['f8'] = (df['f7'].div(3).apply(np.floor)) -2\n",
    "df['f9'] = (df['f8'].div(3).apply(np.floor)) -2\n",
    "df['f10'] = (df['f9'].div(3).apply(np.floor)) -2"
   ]
  },
  {
   "cell_type": "code",
   "execution_count": 38,
   "metadata": {},
   "outputs": [],
   "source": [
    "df[df < 0] = 0"
   ]
  },
  {
   "cell_type": "code",
   "execution_count": 39,
   "metadata": {},
   "outputs": [
    {
     "data": {
      "text/html": [
       "<div>\n",
       "<style scoped>\n",
       "    .dataframe tbody tr th:only-of-type {\n",
       "        vertical-align: middle;\n",
       "    }\n",
       "\n",
       "    .dataframe tbody tr th {\n",
       "        vertical-align: top;\n",
       "    }\n",
       "\n",
       "    .dataframe thead th {\n",
       "        text-align: right;\n",
       "    }\n",
       "</style>\n",
       "<table border=\"1\" class=\"dataframe\">\n",
       "  <thead>\n",
       "    <tr style=\"text-align: right;\">\n",
       "      <th></th>\n",
       "      <th>0</th>\n",
       "      <th>fuel</th>\n",
       "      <th>f2</th>\n",
       "      <th>f3</th>\n",
       "      <th>f4</th>\n",
       "      <th>f5</th>\n",
       "      <th>f6</th>\n",
       "      <th>f7</th>\n",
       "      <th>f8</th>\n",
       "      <th>f9</th>\n",
       "      <th>f10</th>\n",
       "    </tr>\n",
       "  </thead>\n",
       "  <tbody>\n",
       "    <tr>\n",
       "      <th>count</th>\n",
       "      <td>100.000000</td>\n",
       "      <td>100.00000</td>\n",
       "      <td>100.000000</td>\n",
       "      <td>100.000000</td>\n",
       "      <td>100.000000</td>\n",
       "      <td>100.000000</td>\n",
       "      <td>100.000000</td>\n",
       "      <td>100.000000</td>\n",
       "      <td>100.000000</td>\n",
       "      <td>100.000000</td>\n",
       "      <td>100.0</td>\n",
       "    </tr>\n",
       "    <tr>\n",
       "      <th>mean</th>\n",
       "      <td>94851.450000</td>\n",
       "      <td>31614.83000</td>\n",
       "      <td>10535.940000</td>\n",
       "      <td>3509.690000</td>\n",
       "      <td>1167.550000</td>\n",
       "      <td>386.880000</td>\n",
       "      <td>126.650000</td>\n",
       "      <td>39.870000</td>\n",
       "      <td>10.910000</td>\n",
       "      <td>1.420000</td>\n",
       "      <td>0.0</td>\n",
       "    </tr>\n",
       "    <tr>\n",
       "      <th>std</th>\n",
       "      <td>28026.566959</td>\n",
       "      <td>9342.16743</td>\n",
       "      <td>3114.058535</td>\n",
       "      <td>1037.974248</td>\n",
       "      <td>345.965298</td>\n",
       "      <td>115.323461</td>\n",
       "      <td>38.459575</td>\n",
       "      <td>12.813862</td>\n",
       "      <td>4.252379</td>\n",
       "      <td>1.319473</td>\n",
       "      <td>0.0</td>\n",
       "    </tr>\n",
       "    <tr>\n",
       "      <th>min</th>\n",
       "      <td>51193.000000</td>\n",
       "      <td>17062.00000</td>\n",
       "      <td>5685.000000</td>\n",
       "      <td>1893.000000</td>\n",
       "      <td>629.000000</td>\n",
       "      <td>207.000000</td>\n",
       "      <td>67.000000</td>\n",
       "      <td>20.000000</td>\n",
       "      <td>4.000000</td>\n",
       "      <td>0.000000</td>\n",
       "      <td>0.0</td>\n",
       "    </tr>\n",
       "    <tr>\n",
       "      <th>25%</th>\n",
       "      <td>70652.000000</td>\n",
       "      <td>23548.00000</td>\n",
       "      <td>7847.250000</td>\n",
       "      <td>2613.500000</td>\n",
       "      <td>868.750000</td>\n",
       "      <td>287.500000</td>\n",
       "      <td>93.500000</td>\n",
       "      <td>28.750000</td>\n",
       "      <td>7.000000</td>\n",
       "      <td>0.000000</td>\n",
       "      <td>0.0</td>\n",
       "    </tr>\n",
       "    <tr>\n",
       "      <th>50%</th>\n",
       "      <td>92577.500000</td>\n",
       "      <td>30857.00000</td>\n",
       "      <td>10283.500000</td>\n",
       "      <td>3425.500000</td>\n",
       "      <td>1139.500000</td>\n",
       "      <td>377.500000</td>\n",
       "      <td>123.500000</td>\n",
       "      <td>39.000000</td>\n",
       "      <td>10.500000</td>\n",
       "      <td>1.000000</td>\n",
       "      <td>0.0</td>\n",
       "    </tr>\n",
       "    <tr>\n",
       "      <th>75%</th>\n",
       "      <td>118569.250000</td>\n",
       "      <td>39520.75000</td>\n",
       "      <td>13171.000000</td>\n",
       "      <td>4387.750000</td>\n",
       "      <td>1460.250000</td>\n",
       "      <td>484.750000</td>\n",
       "      <td>159.000000</td>\n",
       "      <td>50.500000</td>\n",
       "      <td>14.250000</td>\n",
       "      <td>2.250000</td>\n",
       "      <td>0.0</td>\n",
       "    </tr>\n",
       "    <tr>\n",
       "      <th>max</th>\n",
       "      <td>148941.000000</td>\n",
       "      <td>49645.00000</td>\n",
       "      <td>16546.000000</td>\n",
       "      <td>5513.000000</td>\n",
       "      <td>1835.000000</td>\n",
       "      <td>609.000000</td>\n",
       "      <td>201.000000</td>\n",
       "      <td>65.000000</td>\n",
       "      <td>19.000000</td>\n",
       "      <td>4.000000</td>\n",
       "      <td>0.0</td>\n",
       "    </tr>\n",
       "  </tbody>\n",
       "</table>\n",
       "</div>"
      ],
      "text/plain": [
       "                   0         fuel            f2           f3           f4  \\\n",
       "count     100.000000    100.00000    100.000000   100.000000   100.000000   \n",
       "mean    94851.450000  31614.83000  10535.940000  3509.690000  1167.550000   \n",
       "std     28026.566959   9342.16743   3114.058535  1037.974248   345.965298   \n",
       "min     51193.000000  17062.00000   5685.000000  1893.000000   629.000000   \n",
       "25%     70652.000000  23548.00000   7847.250000  2613.500000   868.750000   \n",
       "50%     92577.500000  30857.00000  10283.500000  3425.500000  1139.500000   \n",
       "75%    118569.250000  39520.75000  13171.000000  4387.750000  1460.250000   \n",
       "max    148941.000000  49645.00000  16546.000000  5513.000000  1835.000000   \n",
       "\n",
       "               f5          f6          f7          f8          f9    f10  \n",
       "count  100.000000  100.000000  100.000000  100.000000  100.000000  100.0  \n",
       "mean   386.880000  126.650000   39.870000   10.910000    1.420000    0.0  \n",
       "std    115.323461   38.459575   12.813862    4.252379    1.319473    0.0  \n",
       "min    207.000000   67.000000   20.000000    4.000000    0.000000    0.0  \n",
       "25%    287.500000   93.500000   28.750000    7.000000    0.000000    0.0  \n",
       "50%    377.500000  123.500000   39.000000   10.500000    1.000000    0.0  \n",
       "75%    484.750000  159.000000   50.500000   14.250000    2.250000    0.0  \n",
       "max    609.000000  201.000000   65.000000   19.000000    4.000000    0.0  "
      ]
     },
     "execution_count": 39,
     "metadata": {},
     "output_type": "execute_result"
    }
   ],
   "source": [
    "df.describe()"
   ]
  },
  {
   "cell_type": "code",
   "execution_count": 40,
   "metadata": {},
   "outputs": [
    {
     "name": "stdout",
     "output_type": "stream",
     "text": [
      "4739374.0\n"
     ]
    }
   ],
   "source": [
    "print (df[['fuel','f2','f3','f4','f5','f6','f7','f8','f9','f10']].sum(axis=1).sum())"
   ]
  },
  {
   "cell_type": "code",
   "execution_count": null,
   "metadata": {},
   "outputs": [],
   "source": []
  }
 ],
 "metadata": {
  "kernelspec": {
   "display_name": "Python 3",
   "language": "python",
   "name": "python3"
  },
  "language_info": {
   "codemirror_mode": {
    "name": "ipython",
    "version": 3
   },
   "file_extension": ".py",
   "mimetype": "text/x-python",
   "name": "python",
   "nbconvert_exporter": "python",
   "pygments_lexer": "ipython3",
   "version": "3.7.7"
  }
 },
 "nbformat": 4,
 "nbformat_minor": 4
}
