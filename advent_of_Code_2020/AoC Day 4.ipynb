{
 "cells": [
  {
   "cell_type": "code",
   "execution_count": 42,
   "metadata": {},
   "outputs": [],
   "source": [
    "import pandas as pd\n",
    "import os, sys\n",
    "import numpy as np"
   ]
  },
  {
   "cell_type": "code",
   "execution_count": 77,
   "metadata": {},
   "outputs": [],
   "source": [
    "with open(os.path.join(sys.path[0], \"AoC_Day4_passports.txt\"), \"r\") as f: ##open file\n",
    "    contents = f.read()\n",
    "    passgroup = contents.split(\"\\n\\n\")"
   ]
  },
  {
   "cell_type": "code",
   "execution_count": 78,
   "metadata": {},
   "outputs": [],
   "source": [
    "passlst= []\n",
    "for pp in passgroup:\n",
    "    pp_flds = pp.split()\n",
    "    passlst.append(pp_flds)"
   ]
  },
  {
   "cell_type": "code",
   "execution_count": 79,
   "metadata": {},
   "outputs": [],
   "source": [
    "#     byr (Birth Year)\n",
    "#     iyr (Issue Year)\n",
    "#     eyr (Expiration Year)\n",
    "#     hgt (Height)\n",
    "#     hcl (Hair Color)\n",
    "#     ecl (Eye Color)\n",
    "#     pid (Passport ID)\n",
    "#     cid (Country ID)\n",
    "\n",
    "flds = ['byr', 'iyr', 'eyr', 'hgt', 'hcl', 'ecl', 'pid', 'cid']\n",
    "df = pd.DataFrame(columns = flds)\n",
    "\n",
    "for pp in passlst:\n",
    "    record = []\n",
    "    for fld in flds:\n",
    "        match = [s.split(':')[1] for s in pp if fld in s]\n",
    "        if match:\n",
    "            record.append(match[0])\n",
    "        else:\n",
    "            record.append(np.nan)\n",
    "      \n",
    "    x = pd.Series(record, index = flds) \n",
    "    df = df.append(x, ignore_index=True)"
   ]
  },
  {
   "cell_type": "code",
   "execution_count": 80,
   "metadata": {},
   "outputs": [],
   "source": [
    "df['Nullct'] = df.isnull().sum(axis = 1)\n",
    "df['cidNullCheck'] = df['cid'].isnull()"
   ]
  },
  {
   "cell_type": "code",
   "execution_count": 81,
   "metadata": {},
   "outputs": [],
   "source": [
    "df['valid1'] = ((df['cidNullCheck'] == False) & (df['Nullct'] == 0)) | ((df['cidNullCheck'] == True) & (df['Nullct'] == 1))"
   ]
  },
  {
   "cell_type": "code",
   "execution_count": 82,
   "metadata": {},
   "outputs": [
    {
     "name": "stdout",
     "output_type": "stream",
     "text": [
      "190\n"
     ]
    }
   ],
   "source": [
    "print( df['valid1'].value_counts()[True] )"
   ]
  },
  {
   "cell_type": "markdown",
   "metadata": {},
   "source": [
    "You can continue to ignore the cid field, but each other field has strict rules about what values are valid for automatic validation:\n",
    "\n",
    "   - byr (Birth Year) - four digits; at least 1920 and at most 2002. (complete)\n",
    "   - iyr (Issue Year) - four digits; at least 2010 and at most 2020.(complete)\n",
    "   - eyr (Expiration Year) - four digits; at least 2020 and at most 2030.(complete)\n",
    "   - hgt (Height) - a number followed by either cm or in:   (complete)<br>  \n",
    "        - If cm, the number must be at least 150 and at most 193.<br>\n",
    "        - If in, the number must be at least 59 and at most 76.\n",
    "   - hcl (Hair Color) - a # followed by exactly six characters 0-9 or a-f.\n",
    "   - ecl (Eye Color) - exactly one of: amb blu brn gry grn hzl oth. (complete)\n",
    "   - pid (Passport ID) - a nine-digit number, including leading zeroes. (complete)\n",
    "   - cid (Country ID) - ignored, missing or not.\n"
   ]
  },
  {
   "cell_type": "code",
   "execution_count": 87,
   "metadata": {},
   "outputs": [],
   "source": [
    "df['v_byr'] = (1920 <= pd.to_numeric(df['byr'], errors='coerce')) & (pd.to_numeric(df['byr'], errors='coerce') <= 2002)\n",
    "df['v_iyr'] = (2010 <= pd.to_numeric(df['iyr'], errors='coerce')) & (pd.to_numeric(df['iyr'], errors='coerce') <= 2020)\n",
    "df['v_eyr'] = (2020 <= pd.to_numeric(df['eyr'], errors='coerce')) & (pd.to_numeric(df['eyr'], errors='coerce') <= 2030)\n",
    "df['hgt_num'] =  df['hgt'].str.extract('(^\\d*)')\n",
    "df['hgt_units'] = df['hgt'].replace('(\\d)', '', regex=True)\n",
    "df['v_hgt'] = ( \\\n",
    "                (pd.notna(df['hgt']) & (df['hgt_units'] == 'in') & \\\n",
    "                      ((59<= pd.to_numeric(df['hgt_num'], errors='coerce')) & \\\n",
    "                       (pd.to_numeric(df['hgt_num'], errors='coerce')<=76))) \\\n",
    "                | \\\n",
    "                (pd.notna(df['hgt']) & (df['hgt_units'] == 'cm') & \\\n",
    "                      ((150<= pd.to_numeric(df['hgt_num'], errors='coerce')) & \\\n",
    "                       (pd.to_numeric(df['hgt_num'], errors='coerce')<=193))) \\\n",
    "               )\n",
    "\n",
    "df['v_hcl']= (df['hcl'].str.contains(r'^#(?:[0-9a-fA-F]{3}){1,2}$'))\n",
    "df['v_ecl'] = df['ecl'].isin(['amb', 'blu', 'brn', 'gry', 'grn', 'hzl', 'oth'])\n",
    "df['v_pid'] = (df['pid'].str.len() == 9) & df['pid'].str.isnumeric()"
   ]
  },
  {
   "cell_type": "code",
   "execution_count": 93,
   "metadata": {
    "scrolled": true
   },
   "outputs": [],
   "source": [
    "#final check for validity in condition 2 for day 4\n",
    "df['valid2'] = df['v_byr'] & df['v_iyr'] & df['v_eyr'] & df['v_hgt']& df['v_hcl'] & df['v_ecl'] & df['v_pid']"
   ]
  },
  {
   "cell_type": "code",
   "execution_count": 94,
   "metadata": {},
   "outputs": [
    {
     "name": "stdout",
     "output_type": "stream",
     "text": [
      "121\n"
     ]
    }
   ],
   "source": [
    "print( df['valid2'].value_counts()[True] )"
   ]
  }
 ],
 "metadata": {
  "kernelspec": {
   "display_name": "Python 3",
   "language": "python",
   "name": "python3"
  },
  "language_info": {
   "codemirror_mode": {
    "name": "ipython",
    "version": 3
   },
   "file_extension": ".py",
   "mimetype": "text/x-python",
   "name": "python",
   "nbconvert_exporter": "python",
   "pygments_lexer": "ipython3",
   "version": "3.7.7"
  }
 },
 "nbformat": 4,
 "nbformat_minor": 4
}
