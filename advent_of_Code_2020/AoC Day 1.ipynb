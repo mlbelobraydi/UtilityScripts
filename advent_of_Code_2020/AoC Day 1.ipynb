{
 "cells": [
  {
   "cell_type": "code",
   "execution_count": 4,
   "metadata": {},
   "outputs": [],
   "source": [
    "import pandas as pd\n",
    "import os, sys"
   ]
  },
  {
   "cell_type": "code",
   "execution_count": 24,
   "metadata": {},
   "outputs": [],
   "source": [
    "#inputs = pd.read_csv(r'C:\\Users\\MBelobraydic\\Desktop\\AoC_1_inputs.txt', header = None)\n",
    "with open(os.path.join(sys.path[0], \"AoC_1_inputs.txt\"), \"r\") as f:\n",
    "    inputs = pd.read_csv(f, sep=' ', header = None)"
   ]
  },
  {
   "cell_type": "code",
   "execution_count": 25,
   "metadata": {},
   "outputs": [],
   "source": [
    "inputs.rename(columns={0:'vals'}, inplace=True)"
   ]
  },
  {
   "cell_type": "code",
   "execution_count": 26,
   "metadata": {},
   "outputs": [
    {
     "data": {
      "text/html": [
       "<div>\n",
       "<style scoped>\n",
       "    .dataframe tbody tr th:only-of-type {\n",
       "        vertical-align: middle;\n",
       "    }\n",
       "\n",
       "    .dataframe tbody tr th {\n",
       "        vertical-align: top;\n",
       "    }\n",
       "\n",
       "    .dataframe thead th {\n",
       "        text-align: right;\n",
       "    }\n",
       "</style>\n",
       "<table border=\"1\" class=\"dataframe\">\n",
       "  <thead>\n",
       "    <tr style=\"text-align: right;\">\n",
       "      <th></th>\n",
       "      <th>vals</th>\n",
       "    </tr>\n",
       "  </thead>\n",
       "  <tbody>\n",
       "    <tr>\n",
       "      <th>0</th>\n",
       "      <td>2010</td>\n",
       "    </tr>\n",
       "    <tr>\n",
       "      <th>1</th>\n",
       "      <td>1856</td>\n",
       "    </tr>\n",
       "    <tr>\n",
       "      <th>2</th>\n",
       "      <td>1905</td>\n",
       "    </tr>\n",
       "    <tr>\n",
       "      <th>3</th>\n",
       "      <td>1786</td>\n",
       "    </tr>\n",
       "    <tr>\n",
       "      <th>4</th>\n",
       "      <td>1557</td>\n",
       "    </tr>\n",
       "    <tr>\n",
       "      <th>...</th>\n",
       "      <td>...</td>\n",
       "    </tr>\n",
       "    <tr>\n",
       "      <th>195</th>\n",
       "      <td>1998</td>\n",
       "    </tr>\n",
       "    <tr>\n",
       "      <th>196</th>\n",
       "      <td>1708</td>\n",
       "    </tr>\n",
       "    <tr>\n",
       "      <th>197</th>\n",
       "      <td>1810</td>\n",
       "    </tr>\n",
       "    <tr>\n",
       "      <th>198</th>\n",
       "      <td>1939</td>\n",
       "    </tr>\n",
       "    <tr>\n",
       "      <th>199</th>\n",
       "      <td>2005</td>\n",
       "    </tr>\n",
       "  </tbody>\n",
       "</table>\n",
       "<p>200 rows × 1 columns</p>\n",
       "</div>"
      ],
      "text/plain": [
       "     vals\n",
       "0    2010\n",
       "1    1856\n",
       "2    1905\n",
       "3    1786\n",
       "4    1557\n",
       "..    ...\n",
       "195  1998\n",
       "196  1708\n",
       "197  1810\n",
       "198  1939\n",
       "199  2005\n",
       "\n",
       "[200 rows x 1 columns]"
      ]
     },
     "execution_count": 26,
     "metadata": {},
     "output_type": "execute_result"
    }
   ],
   "source": [
    "inputs"
   ]
  },
  {
   "cell_type": "code",
   "execution_count": 27,
   "metadata": {},
   "outputs": [],
   "source": [
    "inputs['diff'] = 2020 - inputs['vals']"
   ]
  },
  {
   "cell_type": "code",
   "execution_count": 28,
   "metadata": {},
   "outputs": [
    {
     "data": {
      "text/html": [
       "<div>\n",
       "<style scoped>\n",
       "    .dataframe tbody tr th:only-of-type {\n",
       "        vertical-align: middle;\n",
       "    }\n",
       "\n",
       "    .dataframe tbody tr th {\n",
       "        vertical-align: top;\n",
       "    }\n",
       "\n",
       "    .dataframe thead th {\n",
       "        text-align: right;\n",
       "    }\n",
       "</style>\n",
       "<table border=\"1\" class=\"dataframe\">\n",
       "  <thead>\n",
       "    <tr style=\"text-align: right;\">\n",
       "      <th></th>\n",
       "      <th>vals</th>\n",
       "      <th>diff</th>\n",
       "    </tr>\n",
       "  </thead>\n",
       "  <tbody>\n",
       "    <tr>\n",
       "      <th>0</th>\n",
       "      <td>2010</td>\n",
       "      <td>10</td>\n",
       "    </tr>\n",
       "    <tr>\n",
       "      <th>1</th>\n",
       "      <td>1856</td>\n",
       "      <td>164</td>\n",
       "    </tr>\n",
       "    <tr>\n",
       "      <th>2</th>\n",
       "      <td>1905</td>\n",
       "      <td>115</td>\n",
       "    </tr>\n",
       "    <tr>\n",
       "      <th>3</th>\n",
       "      <td>1786</td>\n",
       "      <td>234</td>\n",
       "    </tr>\n",
       "    <tr>\n",
       "      <th>4</th>\n",
       "      <td>1557</td>\n",
       "      <td>463</td>\n",
       "    </tr>\n",
       "    <tr>\n",
       "      <th>...</th>\n",
       "      <td>...</td>\n",
       "      <td>...</td>\n",
       "    </tr>\n",
       "    <tr>\n",
       "      <th>195</th>\n",
       "      <td>1998</td>\n",
       "      <td>22</td>\n",
       "    </tr>\n",
       "    <tr>\n",
       "      <th>196</th>\n",
       "      <td>1708</td>\n",
       "      <td>312</td>\n",
       "    </tr>\n",
       "    <tr>\n",
       "      <th>197</th>\n",
       "      <td>1810</td>\n",
       "      <td>210</td>\n",
       "    </tr>\n",
       "    <tr>\n",
       "      <th>198</th>\n",
       "      <td>1939</td>\n",
       "      <td>81</td>\n",
       "    </tr>\n",
       "    <tr>\n",
       "      <th>199</th>\n",
       "      <td>2005</td>\n",
       "      <td>15</td>\n",
       "    </tr>\n",
       "  </tbody>\n",
       "</table>\n",
       "<p>200 rows × 2 columns</p>\n",
       "</div>"
      ],
      "text/plain": [
       "     vals  diff\n",
       "0    2010    10\n",
       "1    1856   164\n",
       "2    1905   115\n",
       "3    1786   234\n",
       "4    1557   463\n",
       "..    ...   ...\n",
       "195  1998    22\n",
       "196  1708   312\n",
       "197  1810   210\n",
       "198  1939    81\n",
       "199  2005    15\n",
       "\n",
       "[200 rows x 2 columns]"
      ]
     },
     "execution_count": 28,
     "metadata": {},
     "output_type": "execute_result"
    }
   ],
   "source": [
    "inputs"
   ]
  },
  {
   "cell_type": "code",
   "execution_count": 29,
   "metadata": {},
   "outputs": [],
   "source": [
    "report = inputs['vals'].values"
   ]
  },
  {
   "cell_type": "code",
   "execution_count": 30,
   "metadata": {
    "scrolled": true
   },
   "outputs": [
    {
     "data": {
      "text/plain": [
       "array([2010, 1856, 1905, 1786, 1557, 1995, 1830, 1971, 1909, 1500, 1806,\n",
       "       1846, 2003, 1839, 1943, 1977, 1537,  689, 1861, 1886, 1815, 1763,\n",
       "       1834, 1881, 1952, 1853, 1775, 1835, 1874, 1948, 1978,  347, 1672,\n",
       "        885, 1709, 1826, 1911, 1644, 1064, 1561, 1966, 1352, 1347, 1928,\n",
       "       1756,  615, 1513, 1932, 1968, 1762, 1842, 1475, 1921, 1716, 1533,\n",
       "       1975, 1924, 1850, 1456, 1783, 1587, 1913, 1908, 1502, 1993, 1635,\n",
       "       1691, 1706, 1871, 1857, 1915, 1604, 1618, 1902, 1860, 1648, 1933,\n",
       "       1999, 1960, 1389, 1858, 1793, 1609, 1484, 1735, 1535, 1891, 1879,\n",
       "       1517, 1766, 1926, 1668, 1495, 1585, 1831, 1308, 1767, 1479, 1638,\n",
       "       1600,  710, 1685, 1818, 1859, 1822, 1844, 1550, 1872, 1719, 1863,\n",
       "       1987,  199, 1840, 1817, 1752, 1612, 1983, 1838, 1504, 1997,  716,\n",
       "       1862, 1931, 1356, 1645, 1962, 1574, 1914, 1869, 1919, 1487, 1961,\n",
       "       1728, 1867, 1177, 1757, 1316, 1875, 1991, 1646,  700, 1972, 2004,\n",
       "       1577,  118, 1954, 1483, 1516, 2007, 1506, 1588, 1698, 1725, 2006,\n",
       "        179, 1849, 1894, 1695, 1399, 1726, 1658, 1920, 1825, 1837, 1878,\n",
       "       1591, 1611, 1409, 1553, 1705, 1845, 1718, 1732, 1639, 1885, 1929,\n",
       "       1887, 1787, 1541, 1946, 1391, 1884, 1938, 1496, 1720, 1669, 1965,\n",
       "       1967, 1890, 1743, 1889, 1970, 1866, 1912, 1785, 1998, 1708, 1810,\n",
       "       1939, 2005], dtype=int64)"
      ]
     },
     "execution_count": 30,
     "metadata": {},
     "output_type": "execute_result"
    }
   ],
   "source": [
    "report"
   ]
  },
  {
   "cell_type": "code",
   "execution_count": 31,
   "metadata": {},
   "outputs": [
    {
     "name": "stdout",
     "output_type": "stream",
     "text": [
      "Numbers:  1902 118  Sum:  2020  Multi:  224436\n"
     ]
    }
   ],
   "source": [
    "##Part 1 find the two numbers that sum to 2020 and multiply them together\n",
    "try:\n",
    "    for i in range(len(report)):\n",
    "        sum2020_1 = 2020-report[i]\n",
    "        #print(i, report[i], Sum2020)\n",
    "        for j in range(len(report)):\n",
    "            if i == j:\n",
    "                next\n",
    "            if report[j] == sum2020_1:\n",
    "                print('Numbers: ',report[i], report[j], \n",
    "                      ' Sum: ', report[i]+report[j],\n",
    "                      ' Multi: ', report[i]*report[j]\n",
    "                     )\n",
    "                raise StopIteration\n",
    "\n",
    "except StopIteration: pass"
   ]
  },
  {
   "cell_type": "code",
   "execution_count": 32,
   "metadata": {},
   "outputs": [
    {
     "name": "stdout",
     "output_type": "stream",
     "text": [
      "Numbers:  689 615 716  Sum:  2020  Multi:  303394260\n"
     ]
    }
   ],
   "source": [
    "##Part 2 find the three numbers that sum to 2020 and multiply them together\n",
    "try:\n",
    "    for i in range(len(report)):\n",
    "        sum2020_1 = 2020-report[i]\n",
    "        #print(i, report[i], Sum2020)\n",
    "        for j in range(len(report)):\n",
    "            if i == j:\n",
    "                next\n",
    "            if report[j]<sum2020_1:\n",
    "                sum2020_2 = 2020 - report[i] - report[j]\n",
    "\n",
    "                for k in range(len(report)):\n",
    "                    if k == i or k == j:\n",
    "                        next\n",
    "                    if report[k]<=sum2020_2:\n",
    "                        if report[i]+report[j]+report[k] == 2020:\n",
    "                            print('Numbers: ',report[i], report[j], report[k], \n",
    "                                  ' Sum: ', report[i]+report[j]+report[k], \n",
    "                                  ' Multi: ', report[i]*report[j]*report[k]\n",
    "                                 )\n",
    "                            raise StopIteration\n",
    "\n",
    "except StopIteration: pass"
   ]
  }
 ],
 "metadata": {
  "kernelspec": {
   "display_name": "Python 3",
   "language": "python",
   "name": "python3"
  },
  "language_info": {
   "codemirror_mode": {
    "name": "ipython",
    "version": 3
   },
   "file_extension": ".py",
   "mimetype": "text/x-python",
   "name": "python",
   "nbconvert_exporter": "python",
   "pygments_lexer": "ipython3",
   "version": "3.7.7"
  }
 },
 "nbformat": 4,
 "nbformat_minor": 4
}
