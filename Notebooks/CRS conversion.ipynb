{
 "cells": [
  {
   "cell_type": "markdown",
   "metadata": {},
   "source": [
    "# Coordinate Reference System (CRS) Conversion\n",
    "Using the library pyproj (http://pyproj4.github.io/pyproj/stable/) to transform the CRS you have to the CRS you want. The first example is for a single coordinate pair to be converted with an example to do 1,000's to 1,000,000's of transformations at once using Pandas."
   ]
  },
  {
   "cell_type": "markdown",
   "metadata": {},
   "source": [
    "### Libraries to use in the notebook"
   ]
  },
  {
   "cell_type": "code",
   "execution_count": 1,
   "metadata": {},
   "outputs": [],
   "source": [
    "import pandas as pd\n",
    "from pyproj import Proj, Transformer, transform"
   ]
  },
  {
   "cell_type": "markdown",
   "metadata": {},
   "source": [
    "### Example well\n",
    "This well is from  Colorado Oil and Gas Conservation Commision well shapefile (https://cogcc.state.co.us/documents/data/downloads/gis/WELLS_SHP.ZIP)<br>\n",
    "The longitude and latitude data infomation is in the NAD 1983 Datum<br><br>\n",
    "Searching spatial reference.org for the European Petroleum Survey Group number, we get 4269 (https://spatialreference.org/ref/epsg/4269/)"
   ]
  },
  {
   "cell_type": "code",
   "execution_count": 2,
   "metadata": {},
   "outputs": [],
   "source": [
    "##Input well\n",
    "API = '0500105000'\n",
    "NAD83Lat = 39.741587\n",
    "NAD83Long = -103.727484\n",
    "InCRS = 'EPSG:4269' ## NAD 83 Latitude and Longitude (units = degrees) https://spatialreference.org/ref/epsg/4269/"
   ]
  },
  {
   "attachments": {},
   "cell_type": "markdown",
   "metadata": {},
   "source": [
    "A common transform for colorado is using UTM 13N for the DJ Basin, which works well for most of colorado.\n",
    "<img src=https://upload.wikimedia.org/wikipedia/commons/thumb/8/8d/Utm-zones-USA.svg/1024px-Utm-zones-USA.svg.png  width=\"500\"> (source: https://en.wikipedia.org/wiki/Universal_Transverse_Mercator_coordinate_system)\n",
    "So, we will make that our output CRS."
   ]
  },
  {
   "cell_type": "code",
   "execution_count": 3,
   "metadata": {},
   "outputs": [],
   "source": [
    "##Project CRS\n",
    "OutCRS = 'EPSG:26713' ## UTM zone 13N in datum NAD27 (units = m) https://spatialreference.org/ref/epsg/26713/"
   ]
  },
  {
   "cell_type": "markdown",
   "metadata": {},
   "source": [
    "### Checking the CRS values we have selected with pyproj\n",
    "Using the Proj tool, we can see if the EPSG numbers are providing us the proper projections"
   ]
  },
  {
   "cell_type": "code",
   "execution_count": 4,
   "metadata": {},
   "outputs": [
    {
     "name": "stdout",
     "output_type": "stream",
     "text": [
      "Proj('+proj=longlat +datum=NAD83 +no_defs', preserve_units=True)\n",
      "Proj('+proj=utm +zone=13 +datum=NAD27 +units=m +no_defs', preserve_units=True)\n"
     ]
    }
   ],
   "source": [
    "proj_in = Proj(InCRS)\n",
    "proj_out = Proj(OutCRS)\n",
    "print(proj_in)\n",
    "print(proj_out)"
   ]
  },
  {
   "cell_type": "markdown",
   "metadata": {},
   "source": [
    "### Transforming the coordinates \n",
    "First define the transformer to be completed, then the coordinates to transform to desired CRS."
   ]
  },
  {
   "cell_type": "code",
   "execution_count": 5,
   "metadata": {},
   "outputs": [
    {
     "name": "stdout",
     "output_type": "stream",
     "text": [
      "original: 0500105000 39.741587 -103.727484\n",
      "transformed: 0500105000 609079.8939495534 4399643.509854254\n"
     ]
    }
   ],
   "source": [
    "transformer = Transformer.from_crs(InCRS, OutCRS) ##transformer based on input and output CRS\n",
    "UTM27_13N_East, UTM27_13N_North = transformer.transform(NAD83Lat, NAD83Long) ##Easting and Northing result from transformed Lat-Long\n",
    "print('original:',API, NAD83Lat, NAD83Long) ##Original Data for comparison\n",
    "print('transformed:',API, UTM27_13N_East,UTM27_13N_North) ##Transformed data"
   ]
  },
  {
   "cell_type": "markdown",
   "metadata": {},
   "source": [
    "Knowing how this works is great, but it will take way too long to convert single pairs at a time."
   ]
  },
  {
   "cell_type": "markdown",
   "metadata": {},
   "source": [
    "<br><br>\n",
    "## Now lets setup to do this at project scale\n",
    "<br><br>"
   ]
  },
  {
   "cell_type": "markdown",
   "metadata": {},
   "source": [
    "### Loading the data to a dataframe\n",
    "A file of lat-long data for 100 Colorado wells is in the Data Directory inside the directory for this notebook on github, make sure to have that downloaded."
   ]
  },
  {
   "cell_type": "code",
   "execution_count": 6,
   "metadata": {
    "scrolled": true
   },
   "outputs": [
    {
     "data": {
      "text/html": [
       "<div>\n",
       "<style scoped>\n",
       "    .dataframe tbody tr th:only-of-type {\n",
       "        vertical-align: middle;\n",
       "    }\n",
       "\n",
       "    .dataframe tbody tr th {\n",
       "        vertical-align: top;\n",
       "    }\n",
       "\n",
       "    .dataframe thead th {\n",
       "        text-align: right;\n",
       "    }\n",
       "</style>\n",
       "<table border=\"1\" class=\"dataframe\">\n",
       "  <thead>\n",
       "    <tr style=\"text-align: right;\">\n",
       "      <th></th>\n",
       "      <th>API</th>\n",
       "      <th>NAD83Lat</th>\n",
       "      <th>NAD83Long</th>\n",
       "    </tr>\n",
       "  </thead>\n",
       "  <tbody>\n",
       "    <tr>\n",
       "      <th>0</th>\n",
       "      <td>0500105000</td>\n",
       "      <td>39.741587</td>\n",
       "      <td>-103.727484</td>\n",
       "    </tr>\n",
       "    <tr>\n",
       "      <th>1</th>\n",
       "      <td>0500105001</td>\n",
       "      <td>39.745257</td>\n",
       "      <td>-103.713113</td>\n",
       "    </tr>\n",
       "    <tr>\n",
       "      <th>2</th>\n",
       "      <td>0500105002</td>\n",
       "      <td>39.747303</td>\n",
       "      <td>-104.744385</td>\n",
       "    </tr>\n",
       "    <tr>\n",
       "      <th>3</th>\n",
       "      <td>0500105003</td>\n",
       "      <td>39.748516</td>\n",
       "      <td>-103.910839</td>\n",
       "    </tr>\n",
       "    <tr>\n",
       "      <th>4</th>\n",
       "      <td>0500105004</td>\n",
       "      <td>39.752736</td>\n",
       "      <td>-104.008242</td>\n",
       "    </tr>\n",
       "  </tbody>\n",
       "</table>\n",
       "</div>"
      ],
      "text/plain": [
       "          API   NAD83Lat   NAD83Long\n",
       "0  0500105000  39.741587 -103.727484\n",
       "1  0500105001  39.745257 -103.713113\n",
       "2  0500105002  39.747303 -104.744385\n",
       "3  0500105003  39.748516 -103.910839\n",
       "4  0500105004  39.752736 -104.008242"
      ]
     },
     "execution_count": 6,
     "metadata": {},
     "output_type": "execute_result"
    }
   ],
   "source": [
    "path = 'Data//API-Lat-Long.txt'  ##Data directory in same directory as notebook\n",
    "types_dict = {'API': str, 'NAD83Lat': float, 'NAD83Long': float}  ## dict with data formats for the file\n",
    "df = pd.read_csv(path, sep='\\t', names = ['API', 'NAD83Lat', 'NAD83Long'], dtype=types_dict) ##Tab separation input file with API, Lat, Long\n",
    "df.head()  ##display the first 5 rows of the dataframe"
   ]
  },
  {
   "cell_type": "markdown",
   "metadata": {},
   "source": [
    "### Data source\n",
    "\n",
    "Again, this is from the Colorado Oil and Gas Conservation Commision well shapefile (https://cogcc.state.co.us/documents/data/downloads/gis/WELLS_SHP.ZIP)<br>\n",
    "The longitude and latitude data infomation is in the NAD 1983 Datum."
   ]
  },
  {
   "cell_type": "markdown",
   "metadata": {},
   "source": [
    "### Other Common CRS\n",
    "From https://spatialreference.org/<br>\n",
    "WGS84 Lat Long: EPSG:4326 <br>\n",
    "NAD27 Lat Long: EPSG:4267 <br>\n",
    "NAD83 Lat Long: EPSG:4269 ##Current Lat Long data <br>\n",
    "UTM13N NAD27: EPSG:26713 <br>\n",
    "\n",
    "Many more can be found and I encourage you to test different ones for your project needs."
   ]
  },
  {
   "cell_type": "markdown",
   "metadata": {},
   "source": [
    "### Function to do the work\n",
    "Here is a function that will do the work for us.<br>\n",
    "The function needs specific inputs:<br>\n",
    "        row = in a dataframe row<br>\n",
    "        InCRS = input CRS<br>\n",
    "        OutCRS = output CRS<br>\n",
    "        Lat_E_Col = the column number or name for Latitude or Easting (remember python starts number with 0)<br>\n",
    "        Long_N_Col = the column number or name for Longitude or Northing (remember python starts number with 0) <br>"
   ]
  },
  {
   "cell_type": "code",
   "execution_count": 7,
   "metadata": {},
   "outputs": [],
   "source": [
    "def convertLatLong(row, InCRS, OutCRS, Lat_E_Col, Long_N_Col):\n",
    "    transformer = Transformer.from_crs(InCRS, OutCRS)  ## transformation definition\n",
    "    x,y = transformer.transform(row[Lat_E_Col], row[Long_N_Col]) ## x is output Lat or Easting, y is output Long or Northing\n",
    "    return (x,y) ##return of values"
   ]
  },
  {
   "cell_type": "markdown",
   "metadata": {},
   "source": [
    "#### That's it. Put in data and what you want and in two lines you get the conversion complete. <br><br>"
   ]
  },
  {
   "cell_type": "markdown",
   "metadata": {},
   "source": [
    "### Example of using the function\n",
    "Using the same types of inputs with the dataframe. .apply and zip allow the conversion to be done within the dataframe and get the new data entered."
   ]
  },
  {
   "cell_type": "code",
   "execution_count": 9,
   "metadata": {
    "scrolled": false
   },
   "outputs": [
    {
     "data": {
      "text/html": [
       "<div>\n",
       "<style scoped>\n",
       "    .dataframe tbody tr th:only-of-type {\n",
       "        vertical-align: middle;\n",
       "    }\n",
       "\n",
       "    .dataframe tbody tr th {\n",
       "        vertical-align: top;\n",
       "    }\n",
       "\n",
       "    .dataframe thead th {\n",
       "        text-align: right;\n",
       "    }\n",
       "</style>\n",
       "<table border=\"1\" class=\"dataframe\">\n",
       "  <thead>\n",
       "    <tr style=\"text-align: right;\">\n",
       "      <th></th>\n",
       "      <th>API</th>\n",
       "      <th>NAD83Lat</th>\n",
       "      <th>NAD83Long</th>\n",
       "      <th>NAD27Lat</th>\n",
       "      <th>NAD27Long</th>\n",
       "    </tr>\n",
       "  </thead>\n",
       "  <tbody>\n",
       "    <tr>\n",
       "      <th>0</th>\n",
       "      <td>0500105000</td>\n",
       "      <td>39.741587</td>\n",
       "      <td>-103.727484</td>\n",
       "      <td>39.741602</td>\n",
       "      <td>-103.726953</td>\n",
       "    </tr>\n",
       "    <tr>\n",
       "      <th>1</th>\n",
       "      <td>0500105001</td>\n",
       "      <td>39.745257</td>\n",
       "      <td>-103.713113</td>\n",
       "      <td>39.745272</td>\n",
       "      <td>-103.712583</td>\n",
       "    </tr>\n",
       "    <tr>\n",
       "      <th>2</th>\n",
       "      <td>0500105002</td>\n",
       "      <td>39.747303</td>\n",
       "      <td>-104.744385</td>\n",
       "      <td>39.747323</td>\n",
       "      <td>-104.743823</td>\n",
       "    </tr>\n",
       "    <tr>\n",
       "      <th>3</th>\n",
       "      <td>0500105003</td>\n",
       "      <td>39.748516</td>\n",
       "      <td>-103.910839</td>\n",
       "      <td>39.748532</td>\n",
       "      <td>-103.910302</td>\n",
       "    </tr>\n",
       "    <tr>\n",
       "      <th>4</th>\n",
       "      <td>0500105004</td>\n",
       "      <td>39.752736</td>\n",
       "      <td>-104.008242</td>\n",
       "      <td>39.752753</td>\n",
       "      <td>-104.007702</td>\n",
       "    </tr>\n",
       "  </tbody>\n",
       "</table>\n",
       "</div>"
      ],
      "text/plain": [
       "          API   NAD83Lat   NAD83Long   NAD27Lat   NAD27Long\n",
       "0  0500105000  39.741587 -103.727484  39.741602 -103.726953\n",
       "1  0500105001  39.745257 -103.713113  39.745272 -103.712583\n",
       "2  0500105002  39.747303 -104.744385  39.747323 -104.743823\n",
       "3  0500105003  39.748516 -103.910839  39.748532 -103.910302\n",
       "4  0500105004  39.752736 -104.008242  39.752753 -104.007702"
      ]
     },
     "execution_count": 9,
     "metadata": {},
     "output_type": "execute_result"
    }
   ],
   "source": [
    "InCRS = 'EPSG:4269'\n",
    "OutCRS = 'EPSG:4267'\n",
    "Lat_E_Col = 'NAD83Lat'  ## could also send the column reference number 1\n",
    "Long_N_Col = 'NAD83Long'  ##could also send the column reference number 2\n",
    "\n",
    "\n",
    "df['NAD27Lat'], df['NAD27Long'] = zip(*df.apply(convertLatLong, args=(InCRS, OutCRS, Lat_E_Col, Long_N_Col), axis=1))\n",
    "df.head()"
   ]
  },
  {
   "cell_type": "markdown",
   "metadata": {},
   "source": [
    "### Example for UTM outputs\n",
    "Using a shortened input line with column numbers and rounding the output results to make the Easting and Northing to outputs that are more appropriate to significan digits"
   ]
  },
  {
   "cell_type": "code",
   "execution_count": 10,
   "metadata": {},
   "outputs": [
    {
     "data": {
      "text/html": [
       "<div>\n",
       "<style scoped>\n",
       "    .dataframe tbody tr th:only-of-type {\n",
       "        vertical-align: middle;\n",
       "    }\n",
       "\n",
       "    .dataframe tbody tr th {\n",
       "        vertical-align: top;\n",
       "    }\n",
       "\n",
       "    .dataframe thead th {\n",
       "        text-align: right;\n",
       "    }\n",
       "</style>\n",
       "<table border=\"1\" class=\"dataframe\">\n",
       "  <thead>\n",
       "    <tr style=\"text-align: right;\">\n",
       "      <th></th>\n",
       "      <th>API</th>\n",
       "      <th>NAD83Lat</th>\n",
       "      <th>NAD83Long</th>\n",
       "      <th>NAD27Lat</th>\n",
       "      <th>NAD27Long</th>\n",
       "      <th>UTM27_13N_East_m</th>\n",
       "      <th>UTM27_13N_North_m</th>\n",
       "    </tr>\n",
       "  </thead>\n",
       "  <tbody>\n",
       "    <tr>\n",
       "      <th>0</th>\n",
       "      <td>0500105000</td>\n",
       "      <td>39.741587</td>\n",
       "      <td>-103.727484</td>\n",
       "      <td>39.741602</td>\n",
       "      <td>-103.726953</td>\n",
       "      <td>609034.43</td>\n",
       "      <td>4399641.19</td>\n",
       "    </tr>\n",
       "    <tr>\n",
       "      <th>1</th>\n",
       "      <td>0500105001</td>\n",
       "      <td>39.745257</td>\n",
       "      <td>-103.713113</td>\n",
       "      <td>39.745272</td>\n",
       "      <td>-103.712583</td>\n",
       "      <td>610259.99</td>\n",
       "      <td>4400066.11</td>\n",
       "    </tr>\n",
       "    <tr>\n",
       "      <th>2</th>\n",
       "      <td>0500105002</td>\n",
       "      <td>39.747303</td>\n",
       "      <td>-104.744385</td>\n",
       "      <td>39.747323</td>\n",
       "      <td>-104.743823</td>\n",
       "      <td>521900.02</td>\n",
       "      <td>4399532.64</td>\n",
       "    </tr>\n",
       "    <tr>\n",
       "      <th>3</th>\n",
       "      <td>0500105003</td>\n",
       "      <td>39.748516</td>\n",
       "      <td>-103.910839</td>\n",
       "      <td>39.748532</td>\n",
       "      <td>-103.910302</td>\n",
       "      <td>593314.09</td>\n",
       "      <td>4400203.18</td>\n",
       "    </tr>\n",
       "    <tr>\n",
       "      <th>4</th>\n",
       "      <td>0500105004</td>\n",
       "      <td>39.752736</td>\n",
       "      <td>-104.008242</td>\n",
       "      <td>39.752753</td>\n",
       "      <td>-104.007702</td>\n",
       "      <td>584963.72</td>\n",
       "      <td>4400574.63</td>\n",
       "    </tr>\n",
       "  </tbody>\n",
       "</table>\n",
       "</div>"
      ],
      "text/plain": [
       "          API   NAD83Lat   NAD83Long   NAD27Lat   NAD27Long  UTM27_13N_East_m  \\\n",
       "0  0500105000  39.741587 -103.727484  39.741602 -103.726953         609034.43   \n",
       "1  0500105001  39.745257 -103.713113  39.745272 -103.712583         610259.99   \n",
       "2  0500105002  39.747303 -104.744385  39.747323 -104.743823         521900.02   \n",
       "3  0500105003  39.748516 -103.910839  39.748532 -103.910302         593314.09   \n",
       "4  0500105004  39.752736 -104.008242  39.752753 -104.007702         584963.72   \n",
       "\n",
       "   UTM27_13N_North_m  \n",
       "0         4399641.19  \n",
       "1         4400066.11  \n",
       "2         4399532.64  \n",
       "3         4400203.18  \n",
       "4         4400574.63  "
      ]
     },
     "execution_count": 10,
     "metadata": {},
     "output_type": "execute_result"
    }
   ],
   "source": [
    "##shortening input to single line and using column references\n",
    "## original NAD83 lat long to UTM zone 12N in the NAD27 datum\n",
    "## Using the column number to call the correct lat-long for conversion\n",
    "InCRS, OutCRS, LatCol, LongCol = 'EPSG:4369','EPSG:26713',1,2\n",
    "\n",
    "## Getting the Easting and Northing from the function above for the dataframe\n",
    "df['UTM27_13N_East_m'], df['UTM27_13N_North_m'] = zip(*df.apply(convertLatLong, args=(InCRS, OutCRS, LatCol, LongCol), axis=1))\n",
    "\n",
    "## rounding UTM coordinates to two decimal places for display, and honestly do you need more than a 1 cm accuracy?\n",
    "df['UTM27_13N_East_m'], df['UTM27_13N_North_m'] = df['UTM27_13N_East_m'].round(2), df['UTM27_13N_North_m'].round(2)\n",
    "df.head()"
   ]
  },
  {
   "cell_type": "markdown",
   "metadata": {},
   "source": [
    "### Using those Imperial units\n",
    "Just because I have create more than my share of projects that required UTM-m to be in feet, here is a quick conversion method."
   ]
  },
  {
   "cell_type": "code",
   "execution_count": 11,
   "metadata": {},
   "outputs": [
    {
     "data": {
      "text/html": [
       "<div>\n",
       "<style scoped>\n",
       "    .dataframe tbody tr th:only-of-type {\n",
       "        vertical-align: middle;\n",
       "    }\n",
       "\n",
       "    .dataframe tbody tr th {\n",
       "        vertical-align: top;\n",
       "    }\n",
       "\n",
       "    .dataframe thead th {\n",
       "        text-align: right;\n",
       "    }\n",
       "</style>\n",
       "<table border=\"1\" class=\"dataframe\">\n",
       "  <thead>\n",
       "    <tr style=\"text-align: right;\">\n",
       "      <th></th>\n",
       "      <th>API</th>\n",
       "      <th>NAD83Lat</th>\n",
       "      <th>NAD83Long</th>\n",
       "      <th>NAD27Lat</th>\n",
       "      <th>NAD27Long</th>\n",
       "      <th>UTM27_13N_East_m</th>\n",
       "      <th>UTM27_13N_North_m</th>\n",
       "      <th>UTM27_13N_East_ft</th>\n",
       "      <th>UTM27_13N_North_ft</th>\n",
       "    </tr>\n",
       "  </thead>\n",
       "  <tbody>\n",
       "    <tr>\n",
       "      <th>0</th>\n",
       "      <td>0500105000</td>\n",
       "      <td>39.741587</td>\n",
       "      <td>-103.727484</td>\n",
       "      <td>39.741602</td>\n",
       "      <td>-103.726953</td>\n",
       "      <td>609034.43</td>\n",
       "      <td>4399641.19</td>\n",
       "      <td>1998144.52</td>\n",
       "      <td>14434518.80</td>\n",
       "    </tr>\n",
       "    <tr>\n",
       "      <th>1</th>\n",
       "      <td>0500105001</td>\n",
       "      <td>39.745257</td>\n",
       "      <td>-103.713113</td>\n",
       "      <td>39.745272</td>\n",
       "      <td>-103.712583</td>\n",
       "      <td>610259.99</td>\n",
       "      <td>4400066.11</td>\n",
       "      <td>2002165.39</td>\n",
       "      <td>14435912.90</td>\n",
       "    </tr>\n",
       "    <tr>\n",
       "      <th>2</th>\n",
       "      <td>0500105002</td>\n",
       "      <td>39.747303</td>\n",
       "      <td>-104.744385</td>\n",
       "      <td>39.747323</td>\n",
       "      <td>-104.743823</td>\n",
       "      <td>521900.02</td>\n",
       "      <td>4399532.64</td>\n",
       "      <td>1712270.46</td>\n",
       "      <td>14434162.67</td>\n",
       "    </tr>\n",
       "    <tr>\n",
       "      <th>3</th>\n",
       "      <td>0500105003</td>\n",
       "      <td>39.748516</td>\n",
       "      <td>-103.910839</td>\n",
       "      <td>39.748532</td>\n",
       "      <td>-103.910302</td>\n",
       "      <td>593314.09</td>\n",
       "      <td>4400203.18</td>\n",
       "      <td>1946568.60</td>\n",
       "      <td>14436362.60</td>\n",
       "    </tr>\n",
       "    <tr>\n",
       "      <th>4</th>\n",
       "      <td>0500105004</td>\n",
       "      <td>39.752736</td>\n",
       "      <td>-104.008242</td>\n",
       "      <td>39.752753</td>\n",
       "      <td>-104.007702</td>\n",
       "      <td>584963.72</td>\n",
       "      <td>4400574.63</td>\n",
       "      <td>1919172.37</td>\n",
       "      <td>14437581.27</td>\n",
       "    </tr>\n",
       "  </tbody>\n",
       "</table>\n",
       "</div>"
      ],
      "text/plain": [
       "          API   NAD83Lat   NAD83Long   NAD27Lat   NAD27Long  UTM27_13N_East_m  \\\n",
       "0  0500105000  39.741587 -103.727484  39.741602 -103.726953         609034.43   \n",
       "1  0500105001  39.745257 -103.713113  39.745272 -103.712583         610259.99   \n",
       "2  0500105002  39.747303 -104.744385  39.747323 -104.743823         521900.02   \n",
       "3  0500105003  39.748516 -103.910839  39.748532 -103.910302         593314.09   \n",
       "4  0500105004  39.752736 -104.008242  39.752753 -104.007702         584963.72   \n",
       "\n",
       "   UTM27_13N_North_m  UTM27_13N_East_ft  UTM27_13N_North_ft  \n",
       "0         4399641.19         1998144.52         14434518.80  \n",
       "1         4400066.11         2002165.39         14435912.90  \n",
       "2         4399532.64         1712270.46         14434162.67  \n",
       "3         4400203.18         1946568.60         14436362.60  \n",
       "4         4400574.63         1919172.37         14437581.27  "
      ]
     },
     "execution_count": 11,
     "metadata": {},
     "output_type": "execute_result"
    }
   ],
   "source": [
    "df['UTM27_13N_East_ft'], df['UTM27_13N_North_ft'] = (df['UTM27_13N_East_m']*3.28084).round(2), (df['UTM27_13N_North_m']*3.28084).round(2) \n",
    "df.head()"
   ]
  },
  {
   "cell_type": "markdown",
   "metadata": {},
   "source": [
    "## Conclusion\n",
    "This is a fairly simple way to get the CRS conversions you need quickly. If you know you current CRS and your project CRS, pyproj and pandas makes it fairly easy to do the conversion and stay organized.\n",
    "\n",
    "It is also possible to do this work with geopandas (https://geopandas.org/). That could be added to the Utility Script GitHub in the future. With geopandas it stores the coordinates in a single column, so it isn't as necessary to keep the individual lat or long columns.\n",
    "\n",
    "If you have any questions please let me know on GitHub (https://github.com/mlbelobraydi) or on linkedin (www.linkedin.com/in/matthew-belobraydic)"
   ]
  }
 ],
 "metadata": {
  "kernelspec": {
   "display_name": "Python 3",
   "language": "python",
   "name": "python3"
  },
  "language_info": {
   "codemirror_mode": {
    "name": "ipython",
    "version": 3
   },
   "file_extension": ".py",
   "mimetype": "text/x-python",
   "name": "python",
   "nbconvert_exporter": "python",
   "pygments_lexer": "ipython3",
   "version": "3.7.7"
  }
 },
 "nbformat": 4,
 "nbformat_minor": 2
}
